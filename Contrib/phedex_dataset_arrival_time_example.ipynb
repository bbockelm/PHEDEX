{
 "cells": [
  {
   "cell_type": "code",
   "execution_count": 36,
   "metadata": {
    "collapsed": false
   },
   "outputs": [],
   "source": [
    "# Example of how to get the dataset arrival time form data service blocklatencylog API: \n",
    "# based on this query: \n",
    "# https://cmsweb.cern.ch/phedex/datasvc/perl/prod/blocklatencylog?\n",
    "#    dataset=/ReggeGribovPartonMC_EposLHC_pPb_4080_4080_DataBS/pPb816Spring16GS-MB_80X_mcRun2_pA_v4-v2/GEN-SIM\n",
    "#    &to_node=T2_DE_DESY\n",
    "\n",
    "DS='/ReggeGribovPartonMC_EposLHC_pPb_4080_4080_DataBS/pPb816Spring16GS-MB_80X_mcRun2_pA_v4-v2/GEN-SIM'\n",
    "SITE='T2_DE_DESY'\n",
    "DATASVC_URL='https://cmsweb.cern.ch/phedex/datasvc/json/prod/blocklatencylog'\n",
    "\n",
    "query=DATASVC_URL+'?dataset='+DS+'&to_node='+SITE\n",
    "import subprocess\n",
    "result=subprocess.check_output(['curl','-k','-o','-',query])"
   ]
  },
  {
   "cell_type": "code",
   "execution_count": 37,
   "metadata": {
    "collapsed": false
   },
   "outputs": [],
   "source": [
    "# Analyse the result\n",
    "# Get last_replica times for all dataset blocks\n",
    "import json\n",
    "# Get the returned data into a data structure:\n",
    "logged_data = json.loads(result)\n",
    "\n",
    "# Data are organized by blocks\n",
    "# create a hash of the times the block was complete with the block name as a key:\n",
    "complete_times={}\n",
    "for block in logged_data['phedex']['block']:\n",
    "    # print block['destination']['latency']['last_replica']\n",
    "    for BLK in block['destination']:\n",
    "        complete_times [block['name']]  = BLK['latency'][0]['last_replica']\n",
    "\n",
    "#print complete_times   "
   ]
  },
  {
   "cell_type": "code",
   "execution_count": 38,
   "metadata": {
    "collapsed": false
   },
   "outputs": [
    {
     "name": "stdout",
     "output_type": "stream",
     "text": [
      "Last transferred block:\n",
      "/ReggeGribovPartonMC_EposLHC_pPb_4080_4080_DataBS/pPb816Spring16GS-MB_80X_mcRun2_pA_v4-v2/GEN-SIM#47f7cf4e-162b-11e7-ba5f-001e67abf094\n",
      "arrived on:\n",
      "Wed, 31 May 2017 23:03:36 +0000\n"
     ]
    }
   ],
   "source": [
    "# Print the time of the last completed block:\n",
    "from time import gmtime, strftime\n",
    "def keywithmaxval(d):\n",
    "    # Recipe borrowed from \n",
    "    # https://stackoverflow.com/questions/268272/getting-key-with-maximum-value-in-dictionary\n",
    "    \"\"\" a) create a list of the dict's keys and values; \n",
    "        b) return the key with the max value\"\"\"  \n",
    "    v=list(d.values())\n",
    "    k=list(d.keys())\n",
    "    return k[v.index(max(v))]\n",
    "    \n",
    "last_block = keywithmaxval (complete_times)\n",
    "\n",
    "print 'Last transferred block:\\n{0}\\narrived on:\\n{1}'\\\n",
    "    .format(last_block, strftime(\"%a, %d %b %Y %H:%M:%S +0000\", gmtime(complete_times[last_block])))\n"
   ]
  },
  {
   "cell_type": "code",
   "execution_count": null,
   "metadata": {
    "collapsed": true
   },
   "outputs": [],
   "source": []
  },
  {
   "cell_type": "code",
   "execution_count": null,
   "metadata": {
    "collapsed": true
   },
   "outputs": [],
   "source": []
  }
 ],
 "metadata": {
  "kernelspec": {
   "display_name": "Python 2",
   "language": "python",
   "name": "python2"
  },
  "language_info": {
   "codemirror_mode": {
    "name": "ipython",
    "version": 2
   },
   "file_extension": ".py",
   "mimetype": "text/x-python",
   "name": "python",
   "nbconvert_exporter": "python",
   "pygments_lexer": "ipython2",
   "version": "2.7.13"
  }
 },
 "nbformat": 4,
 "nbformat_minor": 2
}
